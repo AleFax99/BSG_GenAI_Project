{
 "cells": [
  {
   "cell_type": "code",
   "execution_count": null,
   "id": "35cdae4e",
   "metadata": {},
   "outputs": [],
   "source": [
    "# Models?\n",
    "\n",
    "# Linear Regression, Random Forest, LSTM, Graph Neural Networks, Deep Reinforcement Learning?"
   ]
  },
  {
   "cell_type": "markdown",
   "id": "d27b036f",
   "metadata": {},
   "source": [
    "Combinatorial K-Fold CV?"
   ]
  }
 ],
 "metadata": {
  "kernelspec": {
   "display_name": "myenvpy3.9",
   "language": "python",
   "name": "python3"
  },
  "language_info": {
   "name": "python",
   "version": "3.9.23"
  }
 },
 "nbformat": 4,
 "nbformat_minor": 5
}
