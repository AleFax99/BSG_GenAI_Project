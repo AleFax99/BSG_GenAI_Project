{
 "cells": [
  {
   "cell_type": "code",
   "execution_count": null,
   "id": "b4635f58",
   "metadata": {},
   "outputs": [],
   "source": [
    "import pandas as pd \n",
    "from sec_api import XbrlApi"
   ]
  },
  {
   "cell_type": "code",
   "execution_count": null,
   "id": "3d972e92",
   "metadata": {},
   "outputs": [],
   "source": [
    "# convert XBRL-JSON of income statement to pandas dataframe\n",
    "def get_income_statement(xbrl_json):\n",
    "    income_statement_store = {}\n",
    "\n",
    "    # iterate over each US GAAP item in the income statement\n",
    "    for usGaapItem in xbrl_json['StatementsOfIncome']:\n",
    "        values = []\n",
    "        indicies = []\n",
    "\n",
    "        for fact in xbrl_json['StatementsOfIncome'][usGaapItem]:\n",
    "            # only consider items without segment. not required for our analysis.\n",
    "            if 'segment' not in fact:\n",
    "                index = fact['period']['startDate'] + '_' + fact['period']['endDate']\n",
    "                # ensure no index duplicates are created\n",
    "                if index not in indicies:\n",
    "                    values.append(fact['value'])\n",
    "                    indicies.append(index)                    \n",
    "\n",
    "        income_statement_store[usGaapItem] = pd.Series(values, index=indicies) \n",
    "\n",
    "    income_statement = pd.DataFrame(income_statement_store)\n",
    "    # switch columns and rows so that US GAAP items are rows and each column header represents a date range\n",
    "    return income_statement.T "
   ]
  },
  {
   "cell_type": "code",
   "execution_count": null,
   "id": "0f068cce",
   "metadata": {},
   "outputs": [],
   "source": [
    "# convert XBRL-JSON of Balance sheets to pandas dataframe\n",
    "def get_balance_sheets(xbrl_json):\n",
    "    balance_sheets_store = {}\n",
    "\n",
    "    # iterate over each US GAAP item in the balance sheet statement\n",
    "    for usGaapItem in xbrl_json['BalanceSheets']:\n",
    "        values = []\n",
    "        indicies = []\n",
    "\n",
    "        for fact in xbrl_json['BalanceSheets'][usGaapItem]:\n",
    "            # only consider items without segment. not required for our analysis.\n",
    "            if 'segment' not in fact and 'value' in fact:\n",
    "                period = fact['period']\n",
    "                \n",
    "                # Handle duration vs instant periods\n",
    "                if 'startDate' in period and 'endDate' in period:\n",
    "                    index = f\"{period['startDate']}-{period['endDate']}\"\n",
    "                elif 'instant' in period:\n",
    "                    index = period['instant']\n",
    "                else:\n",
    "                    continue  # skip if period structure is unexpected\n",
    "                # index = fact['period']['startDate'] + '-' + fact['period']['endDate']\n",
    "\n",
    "                # ensure no index duplicates are created\n",
    "                if index not in indicies:\n",
    "                    values.append(fact['value'])\n",
    "                    indicies.append(index)\n",
    "                        \n",
    "\n",
    "        balance_sheets_store[usGaapItem] = pd.Series(values, index=indicies) \n",
    "\n",
    "    balance_sheets = pd.DataFrame(balance_sheets_store)\n",
    "    # switch columns and rows so that US GAAP items are rows and each column header represents a date range\n",
    "    return balance_sheets.T "
   ]
  },
  {
   "cell_type": "code",
   "execution_count": null,
   "id": "b2de72f0",
   "metadata": {},
   "outputs": [],
   "source": [
    "def get_cashflow(xbrl_json):\n",
    "    cashflow_store = {}\n",
    "\n",
    "    # iterate over each US GAAP item in the income statement\n",
    "    for usGaapItem in xbrl_json['StatementsOfCashFlows']:\n",
    "        values = []\n",
    "        indicies = []\n",
    "\n",
    "        for fact in xbrl_json['StatementsOfCashFlows'][usGaapItem]:\n",
    "            # only consider items without segment. not required for our analysis.\n",
    "            if 'segment' not in fact and 'value' in fact:\n",
    "                # ensure no index duplicates are created\n",
    "                period = fact['period'] \n",
    "                \n",
    "                # Handle duration vs instant periods\n",
    "                if 'startDate' in period and 'endDate' in period:\n",
    "                    index = f\"{period['startDate']}-{period['endDate']}\"\n",
    "                elif 'instant' in period:\n",
    "                    index = period['instant']\n",
    "                else:\n",
    "                    continue  # skip if period structure is unexpected\n",
    "\n",
    "                if index not in indicies:\n",
    "                    values.append(fact['value'])\n",
    "                    indicies.append(index)                    \n",
    "\n",
    "        cashflow_store[usGaapItem] = pd.Series(values, index=indicies) \n",
    "\n",
    "    cashflow = pd.DataFrame(cashflow_store)\n",
    "    # switch columns and rows so that US GAAP items are rows and each column header represents a date range\n",
    "    return cashflow.T "
   ]
  }
 ],
 "metadata": {
  "jupytext": {
   "formats": "ipynb,py:percent"
  },
  "kernelspec": {
   "display_name": "myenvpy3.9",
   "language": "python",
   "name": "python3"
  },
  "language_info": {
   "codemirror_mode": {
    "name": "ipython",
    "version": 3
   },
   "file_extension": ".py",
   "mimetype": "text/x-python",
   "name": "python",
   "nbconvert_exporter": "python",
   "pygments_lexer": "ipython3",
   "version": "3.9.23"
  }
 },
 "nbformat": 4,
 "nbformat_minor": 5
}
