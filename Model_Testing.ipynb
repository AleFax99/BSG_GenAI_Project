{
 "cells": [
  {
   "cell_type": "markdown",
   "id": "ded9adff",
   "metadata": {},
   "source": [
    "Comparison to S&P 500? Did we do better than the market?"
   ]
  }
 ],
 "metadata": {
  "language_info": {
   "name": "python"
  }
 },
 "nbformat": 4,
 "nbformat_minor": 5
}
