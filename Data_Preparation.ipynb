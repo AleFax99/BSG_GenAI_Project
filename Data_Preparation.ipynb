{
 "cells": [
  {
   "cell_type": "markdown",
   "id": "2368014a",
   "metadata": {},
   "source": [
    "Macroeconomic variables from the World Bank?\n",
    "Market volatility index?"
   ]
  }
 ],
 "metadata": {
  "language_info": {
   "name": "python"
  }
 },
 "nbformat": 4,
 "nbformat_minor": 5
}
